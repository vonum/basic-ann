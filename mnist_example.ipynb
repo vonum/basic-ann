{
 "cells": [
  {
   "cell_type": "code",
   "execution_count": 114,
   "metadata": {
    "collapsed": true
   },
   "outputs": [],
   "source": [
    "import csv\n",
    "import numpy as np\n",
    "from neural_network import NeuralNetwork"
   ]
  },
  {
   "cell_type": "code",
   "execution_count": 127,
   "metadata": {
    "scrolled": true
   },
   "outputs": [
    {
     "name": "stdout",
     "output_type": "stream",
     "text": [
      "(60000, 784)\n",
      "(60000, 10)\n"
     ]
    }
   ],
   "source": [
    "f = open(\"data/mnist_train.csv\", \"r\")\n",
    "reader = csv.reader(f, delimiter=',', quotechar='|')\n",
    "\n",
    "X_train = []\n",
    "y_train = []\n",
    "\n",
    "for row in reader:\n",
    "    X_train.append([np.float64(x) for x in row[1:]])\n",
    "    labels=np.zeros(10)\n",
    "    labels[int(row[0])] = 1\n",
    "    y_train.append(labels)\n",
    "    \n",
    "X_train = np.array(X_train)\n",
    "y_train = np.array(y_train)\n",
    "\n",
    "print(X_train.shape)\n",
    "print(y_train.shape)"
   ]
  },
  {
   "cell_type": "code",
   "execution_count": 128,
   "metadata": {},
   "outputs": [],
   "source": [
    "ann = NeuralNetwork(784, 100, 10, 0.1)\n",
    "ann.train(X_train, y_train)"
   ]
  },
  {
   "cell_type": "code",
   "execution_count": 129,
   "metadata": {},
   "outputs": [],
   "source": [
    "f = open(\"data/mnist_test_10.csv\", \"r\")\n",
    "reader = csv.reader(f, delimiter=',', quotechar='|')\n",
    "\n",
    "X_test = []\n",
    "y_test = []\n",
    "\n",
    "for row in reader:\n",
    "    X_test.append([np.float64(x) for x in row[1:]])\n",
    "    labels = np.zeros(10)\n",
    "    labels[int(row[0])] = 1\n",
    "    y_test.append(labels)\n",
    "    \n",
    "X_test = np.array(X_test)\n",
    "y_test = np.array(y_test)"
   ]
  },
  {
   "cell_type": "code",
   "execution_count": 130,
   "metadata": {},
   "outputs": [
    {
     "name": "stdout",
     "output_type": "stream",
     "text": [
      "[ 0.  0.  0.  0.  0.  0.  0.  1.  0.  0.]\n"
     ]
    },
    {
     "data": {
      "text/plain": [
       "array([[ 0.06763168],\n",
       "       [ 0.00015855],\n",
       "       [ 0.08748535],\n",
       "       [ 0.0377979 ],\n",
       "       [ 0.05490107],\n",
       "       [ 0.06981192],\n",
       "       [ 0.1287415 ],\n",
       "       [ 0.07418345],\n",
       "       [ 0.13576414],\n",
       "       [ 0.09824649]])"
      ]
     },
     "execution_count": 130,
     "metadata": {},
     "output_type": "execute_result"
    }
   ],
   "source": [
    "print(y_test[0])\n",
    "ann.predict(X_test[0])"
   ]
  },
  {
   "cell_type": "code",
   "execution_count": null,
   "metadata": {
    "collapsed": true
   },
   "outputs": [],
   "source": []
  }
 ],
 "metadata": {
  "kernelspec": {
   "display_name": "Python 3",
   "language": "python",
   "name": "python3"
  },
  "language_info": {
   "codemirror_mode": {
    "name": "ipython",
    "version": 3
   },
   "file_extension": ".py",
   "mimetype": "text/x-python",
   "name": "python",
   "nbconvert_exporter": "python",
   "pygments_lexer": "ipython3",
   "version": "3.6.3"
  }
 },
 "nbformat": 4,
 "nbformat_minor": 2
}
